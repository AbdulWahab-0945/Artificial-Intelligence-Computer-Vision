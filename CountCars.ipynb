{
  "nbformat": 4,
  "nbformat_minor": 0,
  "metadata": {
    "colab": {
      "provenance": []
    },
    "kernelspec": {
      "name": "python3",
      "display_name": "Python 3"
    },
    "language_info": {
      "name": "python"
    }
  },
  "cells": [
    {
      "cell_type": "code",
      "execution_count": null,
      "metadata": {
        "id": "MqJ353E2nwqQ"
      },
      "outputs": [],
      "source": [
        "# Install the latest version of PyTorch\n",
        "#!pip install torch torchvision torchaudio -f https://download.pytorch.org/whl/cu111/torch_stable.html\n",
        "\n",
        "# Install YOLOv5\n",
        "#!pip install yolov5\n",
        "\n",
        "\n",
        "\n",
        "import torch\n",
        "from PIL import Image\n",
        "from pathlib import Path\n",
        "from IPython.display import display\n",
        "\n",
        "from google.colab import files\n",
        "\n",
        "uploaded = files.upload()\n",
        "\n",
        "# Assuming you uploaded only one image\n",
        "image_path = list(uploaded.keys())[0]\n",
        "\n",
        "model = torch.hub.load('ultralytics/yolov5:master', 'yolov5s', pretrained=True)\n",
        "\n",
        "def count_cars(image_path):\n",
        "    # Load the image\n",
        "    img = Image.open(image_path)\n",
        "\n",
        "    # Display the input image\n",
        "    display(img)\n",
        "\n",
        "    # Run inference\n",
        "    results = model(img)\n",
        "\n",
        "    # Extract the number of cars (assuming class label 2 corresponds to cars)\n",
        "    car_count = sum(1 for result in results.xyxy[0] if result[-1] == 2)\n",
        "\n",
        "    return car_count\n",
        "\n",
        "\n",
        "# Count the cars in the image\n",
        "car_count = count_cars(image_path)\n",
        "\n",
        "# Display the result\n",
        "print(f'Number of cars in the image: {car_count}')"
      ]
    }
  ]
}